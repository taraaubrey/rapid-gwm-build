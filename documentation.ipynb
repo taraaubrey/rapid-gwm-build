{
 "cells": [
  {
   "cell_type": "markdown",
   "id": "73592ed5",
   "metadata": {},
   "source": [
    "# Nodes"
   ]
  },
  {
   "cell_type": "markdown",
   "id": "17718351",
   "metadata": {},
   "source": [
    "## Types of nodes/Edges\n",
    "\n",
    "- **Input nodes**:\n",
    "  - **User input**: from the user config file (ie. yamls)\n",
    "  - **Model input**: Specific to the template model files (ie. mf6, swat). related to module nodes. This is also the 'output' of rmb, but the input to the model.\n",
    "- **Module nodes**: Derived based on core inputs in user input file and backend model type template files (ie. generic, mf6, swat). \n",
    "- **Mesh nodes**: Derived based on core inputs in user input file. Represents spatial discretization.\n",
    "- **Temporal nodes**: Derived based on core inputs in user input file. Represents temporal discretization.\n",
    "- **Data nodes**: Represents intermediate needs, but useful for user to investigate or plot model parts. Generated based on Mesh, Temporal, User, Model, Module nodes. Data nodes will be specific to model inputs. But not necessarily in the output format.\n",
    "- **Pipeline nodes**: Represents operational processes. Will have input and output nodes. Maybe this is a type of edge?"
   ]
  },
  {
   "cell_type": "markdown",
   "id": "d87e87f4",
   "metadata": {},
   "source": [
    "## Node Naming Convention"
   ]
  },
  {
   "cell_type": "markdown",
   "id": "41a16298",
   "metadata": {},
   "source": [
    "| Node Type     | Description           | Suggested Naming Prefix   | Example ID                            |\n",
    "| -----         | --------              | ---------                 | --------------                        |\n",
    "| `input.user`    | From frontend YAML; scope is the dict path    | `input.user.<scope>`        | `input.user.discretization.grid_size`   |\n",
    "| `input.model` | Specific to backend model template; cmd kwargs in module inputs | `input.model.<module>` | `input.model.drn.stress_period_data` |\n",
    "| `module` | Logical building block from templates |` module.<model_type>.<kind>.<usrname> `| `module.mf6.sfr.mysfr` |\n",
    "| `mesh` | Spatial discretization | `mesh.<dimension/element>` | `mesh.grid` |\n",
    "| `temporal` | Time discretization info | `temporal.<aspect> `| `temporal.time_steps` |\n",
    "| `data` | Intermediate/derived info | `data.<module>.<parameter>` | `data.sfr.rmb_botm` |\n",
    "| `pipeline` | Operation/process node | `pipeline.<name>` | `pipeline.interpolate_rainfall` |"
   ]
  },
  {
   "cell_type": "markdown",
   "id": "b6d47666",
   "metadata": {},
   "source": []
  }
 ],
 "metadata": {
  "language_info": {
   "name": "python"
  }
 },
 "nbformat": 4,
 "nbformat_minor": 5
}
