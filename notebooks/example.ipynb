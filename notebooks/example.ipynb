{
 "cells": [
  {
   "cell_type": "markdown",
   "id": "2f7b3396",
   "metadata": {
    "vscode": {
     "languageId": "xml"
    }
   },
   "source": [
    "vars:\n",
    "    - simulations:\n",
    "        sim_a:\n",
    "            filename: sim_a.pkl\n",
    "\n",
    "stages:\n",
    "    build_modules:\n",
    "        foreach:\n",
    "            sim_a:\n",
    "                kwargs: sim_a.yaml\n",
    "                params: sim_a_params.yaml\n",
    "                dependancies: None\n",
    "            gwf_a:\n",
    "                kwargs: gwf.yaml\n",
    "                params: gwf_params.yaml\n",
    "                dependancies: sim_a.pkl\n",
    "            dis:\n",
    "                kwargs: dis.yaml\n",
    "                params: dis_params.yaml\n",
    "                dependancies: gwf_a.pkl\n",
    "        do:\n",
    "            cmd: python build_modules.py simulations.sim_a.filename ${key} ${item.kwargs}\n",
    "            params: ${item.params}\n",
    "            dependancies: ${item.dependancies}\n",
    "            output: ${key}.pkl"
   ]
  },
  {
   "cell_type": "markdown",
   "id": "cced690f",
   "metadata": {
    "vscode": {
     "languageId": "xml"
    }
   },
   "source": [
    "# dis_a_params.yaml\n",
    "# sample parameters file generated for dis_a\n",
    "\n",
    "stress_period_data:\n",
    "    elevation: dem.tif # timeseries input {0: dem.tif}\n",
    "    conductivity: 1.0 # timeseries input {0: 1.0, 1: 2.0}"
   ]
  },
  {
   "cell_type": "code",
   "execution_count": null,
   "id": "a5bf6a52",
   "metadata": {},
   "outputs": [],
   "source": [
    "#get expected defaults and datatypes from flopy\n",
    "def inspect_class_defaults(cls_path:str) -> dict:\n",
    "    import importlib\n",
    "    import inspect\n",
    "    \n",
    "    try:\n",
    "        # Try to import the class from the specified path\n",
    "        module_name, class_name = cls_path.rsplit(\".\", 1)\n",
    "        module = importlib.import_module(module_name)\n",
    "        inspect_class = getattr(module, class_name)\n",
    "        print(f\"Inspecting {inspect_class.__name__} class\")\n",
    "    except ImportError as e:\n",
    "        # Handle the case where the import fails\n",
    "        raise ImportError(f\"Could not import {cls_path}: {e}\")\n",
    "\n",
    "    signature = inspect.signature(inspect_class.__init__)\n",
    "\n",
    "    defaults = {}\n",
    "    for name, param in signature.parameters.items():\n",
    "        if name != 'self':\n",
    "            defaults[name] = param.default # can also checkout param.annotation or param.kind\n",
    "    return defaults\n",
    "# print(\"Expected types:\")\n",
    "# print(expected_types)"
   ]
  },
  {
   "cell_type": "code",
   "execution_count": 66,
   "id": "31e5104b",
   "metadata": {},
   "outputs": [],
   "source": [
    "# example Module class\n",
    "class Module:\n",
    "    def __init__(\n",
    "            self,\n",
    "            modtype:str, # type of the module (ie. modflow, mt3d, etc)\n",
    "            name:str=None, # name of the module\n",
    "            sim_dependencies:dict=None, # dict of other module required (ie. dis) -> Module type\n",
    "            param_dict=None, # dictionary of adjustable parameter names\n",
    "            special_methods=None, # special methods to format params\n",
    "            cmd=None, # command to run/build module\n",
    "            **kwargs):\n",
    "        self.modtype = modtype\n",
    "        self.name = name\n",
    "        self.sim_dependencies = sim_dependencies\n",
    "        self.param_dict = param_dict\n",
    "        self.special_methods = special_methods\n",
    "        self.cmd = cmd\n",
    "\n",
    "        # these will be the inputs to the cmd function when called\n",
    "        self.cmd_kwargs = inspect_class_defaults(self.cmd)\n",
    "\n",
    "        self.output = None\n",
    "\n",
    "    def add_params(self, params: dict):\n",
    "        # check if the key is in the cmd defaults\n",
    "        # check if the key is in the special methods dict\n",
    "        # update the cmd defaults with the new values\n",
    "        for key, value in params.items():\n",
    "            if key in self.cmd_kwargs.keys():\n",
    "                \n",
    "                # special logic for special methods\n",
    "                if key in self.special_methods.keys():\n",
    "                    # call special method\n",
    "                    print(f'Calling special method for {key} with values {value}')\n",
    "                else:\n",
    "                    # set the parameter value\n",
    "                    print(f'{key}:{value} is not a valid adjustable parameter for {self.name}')\n",
    "    \n",
    "    def run(self):\n",
    "        # first run dependancies\n",
    "        if self.sim_dependencies:\n",
    "            self.run_dependancies()\n",
    "\n",
    "        # run the command with the parameters\n",
    "        print(f'Running {self.name}')\n",
    "        print(f'Running {self.cmd} with parameters {self.cmd_kwargs}')\n",
    "        # here you would call the cmd function with the cmd_kwargs as arguments\n",
    "        # for example: self.cmd(**self.cmd_kwargs)\n",
    "        self.output = f'{self.name} output'\n",
    "\n",
    "    def run_dependancies(self):\n",
    "        # run the dependancies first\n",
    "        for cmd_kwarg, dep_module in self.sim_dependencies.items():\n",
    "            # first check if previously ran\n",
    "            if dep_module.output:\n",
    "                print(f'{dep_module.name} already ran')\n",
    "                self.sim_dependencies[cmd_kwarg] = dep_module.output # update the cmd_kwargs with the dependancy values\n",
    "            else:\n",
    "                # run the dependancy module\n",
    "                dep_module.run()\n",
    "                self.sim_dependencies[cmd_kwarg] = dep_module.output # update the cmd_kwargs with the dependancy values\n",
    "\n",
    "\n"
   ]
  },
  {
   "cell_type": "code",
   "execution_count": 67,
   "id": "0cc3dca1",
   "metadata": {},
   "outputs": [
    {
     "name": "stdout",
     "output_type": "stream",
     "text": [
      "Inspecting MFSimulation class\n",
      "Inspecting ModflowGwf class\n",
      "Inspecting ModflowGwfdrn class\n",
      "Running test_sim\n",
      "Running flopy.mf6.MFSimulation with parameters {'sim_name': 'sim', 'version': 'mf6', 'exe_name': 'mf6', 'sim_ws': '.', 'verbosity_level': 1, 'write_headers': True, 'use_pandas': True, 'lazy_io': False, 'continue_': None, 'nocheck': None, 'memory_print_option': None, 'profile_option': None, 'maxerrors': None, 'print_input': None, 'hpc_data_data': None}\n",
      "Running test_gwf\n",
      "Running flopy.mf6.ModflowGwf with parameters {'simulation': <class 'inspect._empty'>, 'modelname': 'model', 'model_nam_file': None, 'version': 'mf6', 'exe_name': 'mf6', 'model_rel_path': '.', 'list': None, 'print_input': None, 'print_flows': None, 'save_flows': None, 'newtonoptions': None, 'nc_mesh2d_filerecord': None, 'nc_structured_filerecord': None, 'nc_filerecord': None, 'kwargs': <class 'inspect._empty'>}\n",
      "Running None\n",
      "Running flopy.mf6.ModflowGwfdrn with parameters {'model': <class 'inspect._empty'>, 'loading_package': False, 'auxiliary': None, 'auxmultname': None, 'auxdepthname': None, 'boundnames': None, 'print_input': None, 'print_flows': None, 'save_flows': None, 'timeseries': None, 'observations': None, 'mover': None, 'dev_cubic_scaling': None, 'maxbound': None, 'stress_period_data': None, 'filename': None, 'pname': None, 'kwargs': <class 'inspect._empty'>}\n"
     ]
    }
   ],
   "source": [
    "sim = Module(\n",
    "    modtype='sim',\n",
    "    name = 'test_sim',\n",
    "    sim_dependencies=None,\n",
    "    param_dict={},\n",
    "    special_methods=None,\n",
    "    cmd='flopy.mf6.MFSimulation'\n",
    ")\n",
    "\n",
    "gwf = Module(\n",
    "    modtype='gwf',\n",
    "    name='test_gwf',\n",
    "    sim_dependencies={'simulation': sim},\n",
    "    param_dict={},\n",
    "    special_methods=None,\n",
    "    cmd='flopy.mf6.ModflowGwf'\n",
    ")\n",
    "\n",
    "# create a template drn module\n",
    "drn = Module(\n",
    "    modtype = 'drn',\n",
    "    sim_dependencies={'model': gwf},\n",
    "    param_dict={'stress_period_data': ['conductivity', 'elevation', 'mask']},\n",
    "    cmd='flopy.mf6.ModflowGwfdrn',\n",
    "    special_methods={'stress_period_data': 'get_stress_period_data function'},\n",
    ")\n",
    "\n",
    "# these would be inputs from the params file in dvc\n",
    "params = {\n",
    "    'stress_period_data': {\n",
    "        'conductivity': 0.1,\n",
    "        'elevation': 10.0,\n",
    "        'mask': [1, 2, 3] # cellid\n",
    "    },\n",
    "    'save_flows': True,\n",
    "}\n",
    "\n",
    "# drn.add_params(params)\n",
    "drn.run()"
   ]
  },
  {
   "cell_type": "code",
   "execution_count": 32,
   "id": "06c3441e",
   "metadata": {},
   "outputs": [
    {
     "data": {
      "text/plain": [
       "'flopy.mf6.ModflowGwfdrn'"
      ]
     },
     "execution_count": 32,
     "metadata": {},
     "output_type": "execute_result"
    }
   ],
   "source": [
    "drn.cmd"
   ]
  },
  {
   "cell_type": "code",
   "execution_count": 20,
   "id": "34acb773",
   "metadata": {},
   "outputs": [
    {
     "name": "stdout",
     "output_type": "stream",
     "text": [
      "Inspecting ModflowGwfdrn class\n"
     ]
    },
    {
     "data": {
      "text/plain": [
       "{'model': inspect._empty,\n",
       " 'loading_package': False,\n",
       " 'auxiliary': None,\n",
       " 'auxmultname': None,\n",
       " 'auxdepthname': None,\n",
       " 'boundnames': None,\n",
       " 'print_input': None,\n",
       " 'print_flows': None,\n",
       " 'save_flows': None,\n",
       " 'timeseries': None,\n",
       " 'observations': None,\n",
       " 'mover': None,\n",
       " 'dev_cubic_scaling': None,\n",
       " 'maxbound': None,\n",
       " 'stress_period_data': None,\n",
       " 'filename': None,\n",
       " 'pname': None,\n",
       " 'kwargs': inspect._empty}"
      ]
     },
     "execution_count": 20,
     "metadata": {},
     "output_type": "execute_result"
    }
   ],
   "source": [
    "inspect_class_defaults('flopy.mf6.ModflowGwfdrn')"
   ]
  },
  {
   "cell_type": "code",
   "execution_count": null,
   "id": "987f03eb",
   "metadata": {},
   "outputs": [],
   "source": []
  }
 ],
 "metadata": {
  "kernelspec": {
   "display_name": ".venv",
   "language": "python",
   "name": "python3"
  },
  "language_info": {
   "codemirror_mode": {
    "name": "ipython",
    "version": 3
   },
   "file_extension": ".py",
   "mimetype": "text/x-python",
   "name": "python",
   "nbconvert_exporter": "python",
   "pygments_lexer": "ipython3",
   "version": "3.12.9"
  }
 },
 "nbformat": 4,
 "nbformat_minor": 5
}
